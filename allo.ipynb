{
 "cells": [
  {
   "cell_type": "code",
   "execution_count": 12,
   "metadata": {},
   "outputs": [],
   "source": [
    "import numpy as np\n",
    "from allocation import Node\n",
    "from allocation import Net\n",
    "from allocation import PopGene"
   ]
  },
  {
   "cell_type": "code",
   "execution_count": 13,
   "metadata": {},
   "outputs": [],
   "source": [
    "pop = -1 + 2 * np.random.random((100, 53 * 2))\n",
    "netlist = [['g8', 'gp2', 'g10', 'g11', 'g13'], ['g7', 'gp3', 'g10', 'g11'],\n",
    "            ['g6', 'gp4', 'g11'], ['g14', 'gp5', 'g1', 'g18'], ['g5', 'gp6'],\n",
    "            ['g5', 'gp7'], ['g17', 'gp8', 'g19', 'g20', 'g22'],\n",
    "            ['g16', 'gp9', 'g19', 'g20'], ['g15', 'gp10','g20'], ['g0', 'gp11'],\n",
    "            ['g0', 'gp12'], ['g0', 'gp13'], ['g2', 'gp14'], ['g2', 'gp15'],\n",
    "            ['g2', 'gp16'], ['g25', 'gp17', 'g27', 'g28', 'g30'],\n",
    "            ['g24', 'gp18', 'g27', 'g28'], ['g23', 'gp19', 'g28'],\n",
    "            ['gp20', 'g10', 'g5', 'g19', 'g0', 'g2', 'g27', 'g11', 'g12', 'g20', 'g21', 'g28', 'g29'],\n",
    "            ['gp21', 'g10', 'g5', 'g19', 'g0', 'g2', 'g27', 'g11', 'g12', 'g20', 'g21', 'g28', 'g29'],\n",
    "            ['gp0', 'g4', 'g5', 'g1', 'g0', 'g2', 'g3'],\n",
    "            ['gp1', 'g5', 'g0', 'g2', 'g3', 'g26'], ['g4', 'g6', 'g7', 'g8'],\n",
    "            ['g11', 'g6'], ['g9', 'g6', 'g7', 'g8'], ['g12', 'g6', 'g7', 'g8'],\n",
    "            ['g10', 'g7'], ['g13', 'g8'], ['g1', 'g15', 'g16', 'g17'],\n",
    "            ['g20', 'g15'], ['g18', 'g15', 'g16', 'g17'],\n",
    "            ['g21', 'g15', 'g16', 'g17'], ['g19', 'g16'], ['g22', 'g17'],\n",
    "            ['g3', 'g23', 'g24', 'g25'], ['g28', 'g23'],\n",
    "            ['g26', 'g23', 'g24', 'g25'], ['g29', 'g23', 'g24', 'g25'],\n",
    "            ['g27', 'g24'], ['g30', 'g25']]\n",
    "expdict = {\n",
    "    'g0': 65,\n",
    "    'g1': 53,\n",
    "    'g2': 65,\n",
    "    'g3': 53,\n",
    "    'g4': 52,\n",
    "    'g5': 64,\n",
    "    'g6': 6,\n",
    "    'g7': 6,\n",
    "    'g8': 6,\n",
    "    'g9': 2,\n",
    "    'g10': 6,\n",
    "    'g11': 7,\n",
    "    'g12': 4,\n",
    "    'g13': 3,\n",
    "    'g14': 1,\n",
    "    'g15': 6,\n",
    "    'g16': 6,\n",
    "    'g17': 6,\n",
    "    'g18': 3,\n",
    "    'g19': 6,\n",
    "    'g20': 7,\n",
    "    'g21': 4,\n",
    "    'g22': 3,\n",
    "    'g23': 6,\n",
    "    'g24': 6,\n",
    "    'g25': 6,\n",
    "    'g26': 3,\n",
    "    'g27': 6,\n",
    "    'g28': 7,\n",
    "    'g29': 4,\n",
    "    'g30': 3,\n",
    "    'gp0': 1,\n",
    "    'gp1': 1,\n",
    "    'gp2': 1,\n",
    "    'gp3': 1,\n",
    "    'gp4': 1,\n",
    "    'gp5': 1,\n",
    "    'gp6': 1,\n",
    "    'gp7': 1,\n",
    "    'gp8': 1,\n",
    "    'gp9': 1,\n",
    "    'gp10': 1,\n",
    "    'gp11': 1,\n",
    "    'gp12': 1,\n",
    "    'gp13': 1,\n",
    "    'gp14': 1,\n",
    "    'gp15': 1,\n",
    "    'gp16': 1,\n",
    "    'gp17': 1,\n",
    "    'gp18': 1,\n",
    "    'gp19': 1,\n",
    "    'gp20': 1,\n",
    "    'gp21': 1\n",
    "}"
   ]
  },
  {
   "cell_type": "code",
   "execution_count": 14,
   "metadata": {},
   "outputs": [],
   "source": [
    "arepath = \"data\\design.are\"\n",
    "netpath = \"data\\design.net\""
   ]
  },
  {
   "cell_type": "code",
   "execution_count": 15,
   "metadata": {},
   "outputs": [],
   "source": [
    "net_exp = []\n",
    "for i in netlist:\n",
    "    n_exp = Net(i)\n",
    "    net_exp.append(n_exp)\n",
    "# print(net_exp)"
   ]
  },
  {
   "cell_type": "code",
   "execution_count": null,
   "metadata": {},
   "outputs": [],
   "source": [
    "pop_exp = PopGene.popExp(pop)\n",
    "# lstvar, _, _ = PopGene.calVar(pop)\n",
    "lstsum = PopGene.calLink(pop, net_exp)\n",
    "# 分模式计算pop的fitness \n",
    "fitness = PopGene.fitnessCal(pop, net_exp, 2)"
   ]
  }
 ],
 "metadata": {
  "interpreter": {
   "hash": "8f9bc3c36f598f1386d29f180199d47716ceae483d281506558b89a7bcf84fc2"
  },
  "kernelspec": {
   "display_name": "Python 3.7.9 64-bit",
   "language": "python",
   "name": "python3"
  },
  "language_info": {
   "codemirror_mode": {
    "name": "ipython",
    "version": 3
   },
   "file_extension": ".py",
   "mimetype": "text/x-python",
   "name": "python",
   "nbconvert_exporter": "python",
   "pygments_lexer": "ipython3",
   "version": "3.7.9"
  },
  "orig_nbformat": 4
 },
 "nbformat": 4,
 "nbformat_minor": 2
}
