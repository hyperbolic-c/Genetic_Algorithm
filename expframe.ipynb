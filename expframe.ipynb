{
 "cells": [
  {
   "cell_type": "code",
   "execution_count": null,
   "metadata": {},
   "outputs": [],
   "source": [
    "import numpy as np"
   ]
  },
  {
   "cell_type": "code",
   "execution_count": null,
   "metadata": {},
   "outputs": [],
   "source": [
    "class node():\n",
    "    def __init__(self, ind=None, name=None, ziyuan=None, assignment=None, net=None):\n",
    "        self.id = ind\n",
    "        self.name = name\n",
    "        self.ziyuan = ziyuan         # 节点所用资源的列表(在当前题目要求下，资源总和即可，不需要列表)\n",
    "        self.assignment = assignment # 节点被分配到的FPGA序号\n",
    "        self.net = net               # 节点所属线网的序号\n",
    "\n",
    "\n",
    "class net():\n",
    "    def __init__(self, nodelist=None):\n",
    "        self.nodelist = nodelist        # 线网中的节点的列表，此列表中每个元素是节点的名字\n",
    "        self.assignment = set()    # 线网中的节点被分配到的FPGA的集合， 此集合中每个元素是FPGA的序号\n"
   ]
  },
  {
   "cell_type": "code",
   "execution_count": null,
   "metadata": {},
   "outputs": [],
   "source": [
    "def readNodeFile(filename):\n",
    "    f = open(filename)\n",
    "    vertex = {}        # 字典\n",
    "    vertexname=[]      # 列表\n",
    "    ind = 0\n",
    "    for line in f:\n",
    "        list1 = line.split()\n",
    "        nm = list1[0]\n",
    "        vertexname.append(nm)\n",
    "        ziyuan = list(map(int, list1[-10:]))\n",
    "        vertex[nm] = node(ind, nm, sum(ziyuan))\n",
    "        ind += 1\n",
    "    f.close()\n",
    "    return vertex,vertexname"
   ]
  },
  {
   "cell_type": "code",
   "execution_count": null,
   "metadata": {},
   "outputs": [],
   "source": [
    "def readNetFile(filename,vertex):\n",
    "    f = open(filename)\n",
    "    linestack=[]\n",
    "    for line in f:\n",
    "        linestack.append(line.split())\n",
    "    nets=[]\n",
    "    nodelist=[]\n",
    "    ind=0\n",
    "    while linestack!=[]:\n",
    "        line = linestack.pop()\n",
    "        nodelist.append(line[0])\n",
    "        if 's' in line:\n",
    "            nets.append(net(nodelist))\n",
    "            for node in nodelist:\n",
    "                vertex[node].net = ind\n",
    "            nodelist=[]\n",
    "            ind += 1\n",
    "    f.close()\n",
    "    return nets"
   ]
  },
  {
   "cell_type": "code",
   "execution_count": null,
   "metadata": {},
   "outputs": [],
   "source": [
    "def fenpeiMethod(vertex, nosFPGA,vertexname):\n",
    "    return randomFenpei(vertex, nosFPGA,vertexname)\n",
    "\n",
    "def randomFenpei(vertex, nosFPGA,vertexname):\n",
    "    nosnode = len(vertex)\n",
    "    fenpei=[]\n",
    "    for i in range(nosnode):\n",
    "        fenpei.append(np.random.randint(nosFPGA))\n",
    "    F = [[] for i in range(nosFPGA)]\n",
    "    for i in range(nosnode):\n",
    "        F[fenpei[i]].append(i)\n",
    "        vertex[vertexname[i]].assignment = fenpei[i]\n",
    "        for onenet in nets:\n",
    "            if vertexname[i] in onenet.nodelist:\n",
    "                onenet.assignment.add(fenpei[i])    \n",
    "    return F"
   ]
  },
  {
   "cell_type": "code",
   "execution_count": null,
   "metadata": {},
   "outputs": [],
   "source": [
    "def writeResult(F,vertexname):\n",
    "    nosFPGA = len(F)\n",
    "    for fpga in range(nosFPGA):\n",
    "        f.write(\"F\"+str(fpga))\n",
    "        for onenode in F[fpga]:\n",
    "            f.write(\" \"+vertexname[onenode])\n",
    "        f.write(\"\\n\")"
   ]
  },
  {
   "cell_type": "code",
   "execution_count": null,
   "metadata": {},
   "outputs": [],
   "source": [
    "def ziyuanCal(F):\n",
    "    nosFPGA = len(F)\n",
    "    Z = []\n",
    "    for i in range(nosFPGA):\n",
    "        list1 = F[i]\n",
    "        Z.append(sum(list1))\n",
    "    return Z"
   ]
  },
  {
   "cell_type": "code",
   "execution_count": null,
   "metadata": {},
   "outputs": [],
   "source": [
    "def linkCal(nets,nosFPGA):\n",
    "    L = [0 for i in range(nosFPGA)]\n",
    "    for onenet in nets:\n",
    "        if len(onenet.assignment)==1:\n",
    "            continue\n",
    "        for fpgaInd in onenet.assignment:\n",
    "            L[fpgaInd] += 1\n",
    "    return L\n"
   ]
  },
  {
   "cell_type": "code",
   "execution_count": null,
   "metadata": {},
   "outputs": [],
   "source": [
    "def clearAssignInfo(vertex,vertexname,nets):\n",
    "    for nodeInd in range(len(vertexname)):\n",
    "        vertex[vertexname[nodeInd]].assignment = None\n",
    "    for onenet in nets:\n",
    "        onenet.assignment = set()"
   ]
  },
  {
   "cell_type": "code",
   "execution_count": null,
   "metadata": {},
   "outputs": [],
   "source": [
    "# 读取节点文件\n",
    "filename = \"./contest/testdata-0/design.are\"\n",
    "vertex,vertexname = readNodeFile(filename)"
   ]
  },
  {
   "cell_type": "code",
   "execution_count": null,
   "metadata": {},
   "outputs": [],
   "source": [
    "# 读取线网文件\n",
    "filename = \"./contest/testdata-0/design.net\"\n",
    "nets = readNetFile(filename,vertex)"
   ]
  },
  {
   "cell_type": "code",
   "execution_count": null,
   "metadata": {},
   "outputs": [],
   "source": [
    "print(nets[3].nodelist)\n",
    "print(nets[4].assignment)"
   ]
  },
  {
   "cell_type": "code",
   "execution_count": null,
   "metadata": {},
   "outputs": [],
   "source": [
    "nosFPGA = 4"
   ]
  },
  {
   "cell_type": "code",
   "execution_count": null,
   "metadata": {},
   "outputs": [],
   "source": [
    "filename = \"./result.res\"\n",
    "f = open(filename,'w')\n",
    "np.random.seed(np.random.randint(100))"
   ]
  },
  {
   "cell_type": "code",
   "execution_count": null,
   "metadata": {},
   "outputs": [],
   "source": [
    "# 第一种情况\n",
    "clearAssignInfo(vertex,vertexname,nets)\n",
    "F = fenpeiMethod(vertex,nosFPGA,vertexname)\n",
    "writeResult(F,vertexname)\n",
    "f.write(str(np.std(ziyuanCal(F)))+\"\\n\")"
   ]
  },
  {
   "cell_type": "code",
   "execution_count": null,
   "metadata": {},
   "outputs": [],
   "source": [
    "# 第二种情况\n",
    "clearAssignInfo(vertex,vertexname,nets)\n",
    "F = fenpeiMethod(vertex,nosFPGA,vertexname)\n",
    "writeResult(F,vertexname)\n",
    "f.write(str(sum(linkCal(nets,nosFPGA)))+\"\\n\")"
   ]
  },
  {
   "cell_type": "code",
   "execution_count": null,
   "metadata": {},
   "outputs": [],
   "source": [
    "# 第三种情况\n",
    "clearAssignInfo(vertex,vertexname,nets)\n",
    "F = fenpeiMethod(vertex,nosFPGA,vertexname)\n",
    "writeResult(F,vertexname)\n",
    "f.write(str(sum(linkCal(nets,nosFPGA)))+\"\\n\")"
   ]
  },
  {
   "cell_type": "code",
   "execution_count": null,
   "metadata": {},
   "outputs": [],
   "source": [
    "f.close()"
   ]
  }
 ],
 "metadata": {
  "language_info": {
   "name": "python"
  },
  "orig_nbformat": 4
 },
 "nbformat": 4,
 "nbformat_minor": 2
}
